{
 "cells": [
  {
   "cell_type": "markdown",
   "metadata": {
    "id": "pet0xd1ONenc"
   },
   "source": [
    "### Librerías"
   ]
  },
  {
   "cell_type": "code",
   "execution_count": 1,
   "metadata": {
    "id": "UnuDD5SRMx1V"
   },
   "outputs": [
    {
     "name": "stdout",
     "output_type": "stream",
     "text": [
      "Defaulting to user installation because normal site-packages is not writeable\n",
      "Requirement already satisfied: gdown in /home/cristina/.local/lib/python3.10/site-packages (5.2.0)\n",
      "Requirement already satisfied: beautifulsoup4 in /home/cristina/.local/lib/python3.10/site-packages (from gdown) (4.12.2)\n",
      "Requirement already satisfied: filelock in /home/cristina/.local/lib/python3.10/site-packages (from gdown) (3.8.0)\n",
      "Requirement already satisfied: requests[socks] in /home/cristina/.local/lib/python3.10/site-packages (from gdown) (2.31.0)\n",
      "Requirement already satisfied: tqdm in /home/cristina/.local/lib/python3.10/site-packages (from gdown) (4.66.1)\n",
      "Requirement already satisfied: soupsieve>1.2 in /home/cristina/.local/lib/python3.10/site-packages (from beautifulsoup4->gdown) (2.5)\n",
      "Requirement already satisfied: charset-normalizer<4,>=2 in /home/cristina/.local/lib/python3.10/site-packages (from requests[socks]->gdown) (3.3.0)\n",
      "Requirement already satisfied: idna<4,>=2.5 in /usr/lib/python3/dist-packages (from requests[socks]->gdown) (3.3)\n",
      "Requirement already satisfied: urllib3<3,>=1.21.1 in /usr/lib/python3/dist-packages (from requests[socks]->gdown) (1.26.5)\n",
      "Requirement already satisfied: certifi>=2017.4.17 in /usr/lib/python3/dist-packages (from requests[socks]->gdown) (2020.6.20)\n",
      "Requirement already satisfied: PySocks!=1.5.7,>=1.5.6 in /usr/lib/python3/dist-packages (from requests[socks]->gdown) (1.7.1)\n",
      "Defaulting to user installation because normal site-packages is not writeable\n",
      "Requirement already satisfied: torchmetrics in /home/cristina/.local/lib/python3.10/site-packages (1.4.0.post0)\n",
      "Requirement already satisfied: numpy>1.20.0 in /home/cristina/.local/lib/python3.10/site-packages (from torchmetrics) (1.26.0)\n",
      "Requirement already satisfied: packaging>17.1 in /usr/lib/python3/dist-packages (from torchmetrics) (21.3)\n",
      "Requirement already satisfied: torch>=1.10.0 in /home/cristina/.local/lib/python3.10/site-packages (from torchmetrics) (2.3.0)\n",
      "Requirement already satisfied: lightning-utilities>=0.8.0 in /home/cristina/.local/lib/python3.10/site-packages (from torchmetrics) (0.11.2)\n",
      "Requirement already satisfied: setuptools in /usr/lib/python3/dist-packages (from lightning-utilities>=0.8.0->torchmetrics) (59.6.0)\n",
      "Requirement already satisfied: typing-extensions in /home/cristina/.local/lib/python3.10/site-packages (from lightning-utilities>=0.8.0->torchmetrics) (4.8.0)\n",
      "Requirement already satisfied: filelock in /home/cristina/.local/lib/python3.10/site-packages (from torch>=1.10.0->torchmetrics) (3.8.0)\n",
      "Requirement already satisfied: sympy in /home/cristina/.local/lib/python3.10/site-packages (from torch>=1.10.0->torchmetrics) (1.12)\n",
      "Requirement already satisfied: networkx in /home/cristina/.local/lib/python3.10/site-packages (from torch>=1.10.0->torchmetrics) (3.2.1)\n",
      "Requirement already satisfied: jinja2 in /home/cristina/.local/lib/python3.10/site-packages (from torch>=1.10.0->torchmetrics) (3.1.2)\n",
      "Requirement already satisfied: fsspec in /home/cristina/.local/lib/python3.10/site-packages (from torch>=1.10.0->torchmetrics) (2024.5.0)\n",
      "Requirement already satisfied: nvidia-cuda-nvrtc-cu12==12.1.105 in /home/cristina/.local/lib/python3.10/site-packages (from torch>=1.10.0->torchmetrics) (12.1.105)\n",
      "Requirement already satisfied: nvidia-cuda-runtime-cu12==12.1.105 in /home/cristina/.local/lib/python3.10/site-packages (from torch>=1.10.0->torchmetrics) (12.1.105)\n",
      "Requirement already satisfied: nvidia-cuda-cupti-cu12==12.1.105 in /home/cristina/.local/lib/python3.10/site-packages (from torch>=1.10.0->torchmetrics) (12.1.105)\n",
      "Requirement already satisfied: nvidia-cudnn-cu12==8.9.2.26 in /home/cristina/.local/lib/python3.10/site-packages (from torch>=1.10.0->torchmetrics) (8.9.2.26)\n",
      "Requirement already satisfied: nvidia-cublas-cu12==12.1.3.1 in /home/cristina/.local/lib/python3.10/site-packages (from torch>=1.10.0->torchmetrics) (12.1.3.1)\n",
      "Requirement already satisfied: nvidia-cufft-cu12==11.0.2.54 in /home/cristina/.local/lib/python3.10/site-packages (from torch>=1.10.0->torchmetrics) (11.0.2.54)\n",
      "Requirement already satisfied: nvidia-curand-cu12==10.3.2.106 in /home/cristina/.local/lib/python3.10/site-packages (from torch>=1.10.0->torchmetrics) (10.3.2.106)\n",
      "Requirement already satisfied: nvidia-cusolver-cu12==11.4.5.107 in /home/cristina/.local/lib/python3.10/site-packages (from torch>=1.10.0->torchmetrics) (11.4.5.107)\n",
      "Requirement already satisfied: nvidia-cusparse-cu12==12.1.0.106 in /home/cristina/.local/lib/python3.10/site-packages (from torch>=1.10.0->torchmetrics) (12.1.0.106)\n",
      "Requirement already satisfied: nvidia-nccl-cu12==2.20.5 in /home/cristina/.local/lib/python3.10/site-packages (from torch>=1.10.0->torchmetrics) (2.20.5)\n",
      "Requirement already satisfied: nvidia-nvtx-cu12==12.1.105 in /home/cristina/.local/lib/python3.10/site-packages (from torch>=1.10.0->torchmetrics) (12.1.105)\n",
      "Requirement already satisfied: triton==2.3.0 in /home/cristina/.local/lib/python3.10/site-packages (from torch>=1.10.0->torchmetrics) (2.3.0)\n",
      "Requirement already satisfied: nvidia-nvjitlink-cu12 in /home/cristina/.local/lib/python3.10/site-packages (from nvidia-cusolver-cu12==11.4.5.107->torch>=1.10.0->torchmetrics) (12.4.127)\n",
      "Requirement already satisfied: MarkupSafe>=2.0 in /home/cristina/.local/lib/python3.10/site-packages (from jinja2->torch>=1.10.0->torchmetrics) (2.1.5)\n",
      "Requirement already satisfied: mpmath>=0.19 in /home/cristina/.local/lib/python3.10/site-packages (from sympy->torch>=1.10.0->torchmetrics) (1.3.0)\n",
      "Defaulting to user installation because normal site-packages is not writeable\n",
      "Requirement already satisfied: torcheval in /home/cristina/.local/lib/python3.10/site-packages (0.0.7)\n",
      "Requirement already satisfied: typing-extensions in /home/cristina/.local/lib/python3.10/site-packages (from torcheval) (4.8.0)\n"
     ]
    }
   ],
   "source": [
    "!pip install --upgrade --no-cache-dir gdown\n",
    "!pip install torchmetrics\n",
    "!pip install torcheval\n",
    "\n",
    "import os\n",
    "\n",
    "import random\n",
    "import numpy as np\n",
    "import pandas as pd\n",
    "\n",
    "\n",
    "import torch\n",
    "from torch import nn\n",
    "from torch.utils.data import DataLoader, Dataset, Subset\n",
    "from torchvision import transforms\n",
    "from torchvision.datasets import ImageFolder\n",
    "import torchvision.models as models\n",
    "import torchsummary\n",
    "import torch.optim as optim\n",
    "\n",
    "from tqdm import tqdm\n",
    "\n",
    "from torchmetrics.classification import MulticlassAccuracy, MulticlassPrecision, MulticlassRecall\n",
    "\n",
    "from sklearn.metrics import precision_score, recall_score, accuracy_score\n",
    "\n",
    "\n",
    "from matplotlib import pyplot as plt\n",
    "\n",
    "from PIL import Image\n",
    "\n",
    "\n",
    "\n",
    "\n"
   ]
  },
  {
   "cell_type": "markdown",
   "metadata": {
    "id": "jSvd9xYnNUzo"
   },
   "source": [
    "### Cargar imágenes y sus targets"
   ]
  },
  {
   "cell_type": "code",
   "execution_count": null,
   "metadata": {
    "colab": {
     "base_uri": "https://localhost:8080/"
    },
    "id": "Y_J9yK-dkpje",
    "outputId": "623df7ff-62d9-4984-de8e-0bafb91dda76"
   },
   "outputs": [
    {
     "name": "stdout",
     "output_type": "stream",
     "text": [
      "Downloading...\n",
      "From (original): https://drive.google.com/uc?id=1Mcizi0JMfEtZE5dBzOgdOPXlUfMUCCAS\n",
      "From (redirected): https://drive.google.com/uc?id=1Mcizi0JMfEtZE5dBzOgdOPXlUfMUCCAS&confirm=t&uuid=3ba67962-85ff-424f-8174-7319660f87ed\n",
      "To: /home/cristina/Documentos/ESPECIALIDAD_IA/vision2/Training/preprocessed_images.zip\n",
      " 90%|███████████████████████████████████▉    | 354M/394M [00:05<00:00, 59.3MB/s]"
     ]
    }
   ],
   "source": [
    "# Descargar y descromprimir el dataset de imágenes de fondo de ojo.\n",
    "!gdown 1Mcizi0JMfEtZE5dBzOgdOPXlUfMUCCAS\n",
    "!unzip /home/cristina/Documentos/ESPECIALIDAD_IA/vision2/Training/preprocessed_images.zip\n",
    "#!unzip /content/preprocessed_images.zip -d ./preprocessed_images\n",
    "\n",
    "# Descargar .csv que contiene los targets para cada imagen.\n",
    "!gdown 1xe5Qzvqjzwlspm24um4sfnvY1RwL6c2h"
   ]
  },
  {
   "cell_type": "markdown",
   "metadata": {
    "id": "KLrbXyJ0VtGD"
   },
   "source": [
    "### Instanciar dataset y dataloaders"
   ]
  },
  {
   "cell_type": "code",
   "execution_count": 2,
   "metadata": {
    "colab": {
     "base_uri": "https://localhost:8080/"
    },
    "id": "0CYx_lwHFOfx",
    "outputId": "89abf90c-7bdc-439c-8a3b-2486219dba47"
   },
   "outputs": [
    {
     "name": "stdout",
     "output_type": "stream",
     "text": [
      "Train feature batch shape: torch.Size([32, 3, 224, 224])\n",
      "Train labels batch shape: torch.Size([32])\n",
      "Test feature batch shape: torch.Size([32, 3, 224, 224])\n",
      "Test labels batch shape: torch.Size([32])\n"
     ]
    }
   ],
   "source": [
    "class FundusDataset(Dataset):\n",
    "    '''\n",
    "    Custom Dataset para la carga de las imágenes de fondo de ojo con sus respectivos targets.\n",
    "    Targets y sus significados:\n",
    "    0 - Normal\n",
    "    1 - Diabetes\n",
    "    2 - Glaucoma\n",
    "    3 - Cataratas\n",
    "    4 - Degeneración macular asociada a la edad\n",
    "    5 - Hipertensión\n",
    "    6 - Miopía\n",
    "    7 - Otras enfermedades o anormalidades\n",
    "    '''\n",
    "    def __init__(self, csv_file, root_dir, transform=None):\n",
    "        \"\"\"\n",
    "        Args:\n",
    "            csv_file (string): Path to the CSV file with annotations.\n",
    "            root_dir (string): Directory with all the images.\n",
    "            transform (callable, optional): Optional transform to be applied on a sample.\n",
    "        \"\"\"\n",
    "        self.df = pd.read_csv(csv_file)\n",
    "        self.root_dir = root_dir\n",
    "        self.transform = transform\n",
    "        self.to_tensor = transforms.ToTensor()\n",
    "\n",
    "        # Eliminar columnas redundantes\n",
    "        self.df = self.df.drop(columns=['N', 'D', 'G', 'C', 'A', 'H', 'M', 'O'])\n",
    "\n",
    "        # Convertir one-hot encoded 'target' a integer class labels\n",
    "        self.df['target'] = self.df['target'].apply(lambda x: torch.argmax(torch.tensor(eval(x))))\n",
    "        #class_mapping = {'N': 0, 'D': 1, 'G': 2, 'C': 3, 'A': 4, 'H': 5, 'M': 6, 'O': 7}\n",
    "        #self.df['target'] = self.df['target'].map(class_mapping)\n",
    "        \n",
    "    def __len__(self):\n",
    "        return len(self.df)\n",
    "    \n",
    "    def __getitem__(self, idx):\n",
    "        if torch.is_tensor(idx):\n",
    "            idx = idx.tolist()\n",
    "\n",
    "        \n",
    "        img_name = os.path.join(self.root_dir, str(self.df.iloc[idx, self.df.columns.get_loc('filename')]))\n",
    "        image = Image.open(img_name)\n",
    "        #image = self.to_tensor(image)\n",
    "\n",
    "        target_value = self.df.iloc[idx]['target']\n",
    "        if not isinstance(target_value, torch.Tensor):\n",
    "            label = torch.tensor(target_value).clone().detach()\n",
    "        else:\n",
    "            label = target_value.clone().detach()\n",
    "        \n",
    "        if self.transform:\n",
    "            image = self.transform(image)\n",
    "            \n",
    "        return image, label\n",
    "     \n",
    "\n",
    "    def _map_label_to_target(self, label):\n",
    "        if label == '[\\'N\\']':\n",
    "            return 0\n",
    "            #return [1.0, 0.0, 0.0, 0.0, 0.0, 0.0, 0.0, 0.0]\n",
    "        elif label == '[\\'D\\']':\n",
    "            return 1\n",
    "            #return [0.0, 1.0, 0.0, 0.0, 0.0, 0.0, 0.0, 0.0]\n",
    "        elif label == '[\\'G\\']':\n",
    "            return 2\n",
    "            #return [0.0, 0.0, 1.0, 0.0, 0.0, 0.0, 0.0, 0.0]\n",
    "        elif label == '[\\'C\\']':\n",
    "            return 3\n",
    "            #return [0.0, 0.0, 0.0, 1.0, 0.0, 0.0, 0.0, 0.0]\n",
    "        elif label == '[\\'A\\']':\n",
    "            return 4\n",
    "            #return [0.0, 0.0, 0.0, 0.0, 1.0, 0.0, 0.0, 0.0]\n",
    "        elif label == '[\\'H\\']':\n",
    "            return 5\n",
    "            #return [0.0, 0.0, 0.0, 0.0, 0.0, 1.0, 0.0, 0.0]\n",
    "        elif label == '[\\'M\\']':\n",
    "            return 6\n",
    "            #return [0.0, 0.0, 0.0, 0.0, 0.0, 0.0, 1.0, 0.0]\n",
    "        elif label == '[\\'O\\']':\n",
    "            return 7\n",
    "            #return [0.0, 0.0, 0.0, 0.0, 0.0, 0.0, 0.0, 1.0]\n",
    "        else:\n",
    "            raise Exception('Target desconocido')\n",
    "\n",
    "class TransformedDataset(Dataset):\n",
    "    def __init__(self, original_dataset, transform):\n",
    "        self.original_dataset = original_dataset\n",
    "        self.transform = transform\n",
    "\n",
    "    def __len__(self):\n",
    "        return len(self.original_dataset)\n",
    "\n",
    "    def __getitem__(self, idx):\n",
    "        image, label = self.original_dataset[idx]\n",
    "        if self.transform:\n",
    "            image = self.transform(image)\n",
    "        return image, label\n",
    "\n",
    "# Leer el dataframe que contiene los targets para cada imagen.\n",
    "full_df = pd.read_csv('full_df.csv')\n",
    "\n",
    "# Instanciar el dataset.\n",
    "dataset = FundusDataset(csv_file='full_df.csv', root_dir='preprocessed_images/')\n",
    "\n",
    "# Dividir el dataset en entrenamiento y testing.\n",
    "train_size = int(0.8 * len(dataset))\n",
    "test_size = len(dataset) - train_size\n",
    "train_dataset, test_dataset = torch.utils.data.random_split(dataset, [train_size, test_size])\n",
    "data_transforms = transforms.Compose([\n",
    "    transforms.Resize(256),\n",
    "    transforms.CenterCrop(224),\n",
    "    transforms.ToTensor(),\n",
    "    transforms.Normalize(mean=[0.485, 0.456, 0.406],\n",
    "                         std=[0.229, 0.224, 0.225])\n",
    "])\n",
    "train_dataset = TransformedDataset(train_dataset, transform=data_transforms)\n",
    "test_dataset = TransformedDataset(test_dataset, transform=data_transforms)\n",
    "\n",
    "# Instanciar dataloaders para ambos subsets.\n",
    "train_dataloader = DataLoader(train_dataset, batch_size=32, shuffle=True)\n",
    "test_dataloader = DataLoader(test_dataset, batch_size=32, shuffle=False)\n",
    "\n",
    "# Verificar shapes de los batches de entrenamiento.\n",
    "train_features, train_labels = next(iter(train_dataloader))\n",
    "print(f'Train feature batch shape: {train_features.size()}')\n",
    "print(f'Train labels batch shape: {train_labels.size()}')\n",
    "\n",
    "# Verificar shapes de los batches de testing.\n",
    "test_features, test_labels = next(iter(test_dataloader))\n",
    "print(f'Test feature batch shape: {test_features.size()}')\n",
    "print(f'Test labels batch shape: {test_labels.size()}')\n",
    "\n",
    "\n"
   ]
  },
  {
   "cell_type": "markdown",
   "metadata": {
    "id": "tuKKXEaq9fpX"
   },
   "source": [
    "### Funciones de Entrenamiento"
   ]
  },
  {
   "cell_type": "code",
   "execution_count": 3,
   "metadata": {},
   "outputs": [],
   "source": [
    "def train_and_evaluate(model, train_dataloader, test_dataloader, criterion, optimizer, num_epochs, device, num_classes=8, early_stopping=False, patience=5):\n",
    "    if early_stopping:\n",
    "        best_loss = float('inf')\n",
    "        no_improvement_count = 0\n",
    "\n",
    "    accuracy = MulticlassAccuracy(num_classes=num_classes).to(device)\n",
    "    precision = MulticlassPrecision(num_classes=num_classes, average='macro').to(device)\n",
    "    recall = MulticlassRecall(num_classes=num_classes, average='macro').to(device)\n",
    "\n",
    "    train_losses = []\n",
    "    train_accuracies = []\n",
    "    train_precisions = []\n",
    "    train_recalls = []\n",
    "    test_losses = []\n",
    "    test_accuracies = []\n",
    "    test_precisions = []\n",
    "    test_recalls = []\n",
    "\n",
    "    for epoch in range(num_epochs):\n",
    "        model.train()\n",
    "        running_loss = 0.0\n",
    "      \n",
    "        \n",
    "        for images, labels in tqdm(train_dataloader, desc=f'Training Epoch {epoch + 1}/{num_epochs}', unit='batch'):\n",
    "            images, labels = images.to(device), labels.to(device)\n",
    "\n",
    "            optimizer.zero_grad()\n",
    "            outputs = model(images)\n",
    "            loss = criterion(outputs, labels)\n",
    "            loss.backward()\n",
    "            optimizer.step()\n",
    "\n",
    "            running_loss += loss.item()\n",
    "            _, predicted = torch.max(outputs, 1)\n",
    "            \n",
    "\n",
    "            accuracy.update(predicted, labels)\n",
    "            precision.update(predicted, labels)\n",
    "            recall.update(predicted, labels)\n",
    "\n",
    "        train_loss = running_loss / len(train_dataloader)\n",
    "        train_losses.append(train_loss)\n",
    "        train_accuracy = accuracy.compute()\n",
    "        train_accuracies.append(train_accuracy)\n",
    "        train_precision = precision.compute()\n",
    "        train_precisions.append(train_precision)\n",
    "        train_recall = recall.compute()\n",
    "        train_recalls.append(train_recall)\n",
    "\n",
    "            #train_predictions.extend(predicted.cpu().tolist())\n",
    "            #train_targets.extend(labels.cpu().tolist())\n",
    "\n",
    "\n",
    "\n",
    "        print(f'Training Loss: {train_loss:.4f}, Training Accuracy: {train_accuracy:.4f}, Training Precision: {train_precision:.4f}, Training Recall: {train_recall:.4f}')\n",
    "\n",
    "        # Evaluación del modelo en el conjunto de datos de prueba\n",
    "        model.eval()\n",
    "        test_correct = 0\n",
    "        test_total = 0\n",
    "        test_predictions = []\n",
    "        test_targets = []\n",
    "        with torch.no_grad():\n",
    "            for images, labels in tqdm(test_dataloader, desc=f'Testing Epoch {epoch + 1}/{num_epochs}', unit='batch'):\n",
    "                images, labels = images.to(device), labels.to(device)\n",
    "\n",
    "                outputs = model(images)\n",
    "                _, predicted = torch.max(outputs, 1)\n",
    "              \n",
    "\n",
    "                accuracy.update(predicted, labels)\n",
    "                precision.update(predicted, labels)\n",
    "                recall.update(predicted, labels)\n",
    "\n",
    "                #test_predictions.extend(predicted.cpu().tolist())\n",
    "                #test_targets.extend(labels.cpu().tolist())\n",
    "        test_loss = running_loss/len(test_dataloader)\n",
    "        test_losses.append(test_loss)\n",
    "        test_accuracy = accuracy.compute()\n",
    "        test_accuracies.append(test_accuracy)\n",
    "        test_precision = precision.compute()\n",
    "        test_precisions.append(test_precision)\n",
    "        test_recall = recall.compute()\n",
    "        test_recalls.append(test_recall)\n",
    "\n",
    "        print(f'Testing Loss: {test_loss:.4f}, Testing Accuracy: {test_accuracy:.4f}, Testing Precision: {test_precision:.4f}, Testing Recall: {test_recall:.4f}')\n",
    "\n",
    "        if early_stopping:\n",
    "            if test_loss < best_loss:\n",
    "                best_loss = test_loss\n",
    "                no_improvement_count = 0\n",
    "            else:\n",
    "                no_improvement_count += 1\n",
    "\n",
    "            if no_improvement_count >= patience:\n",
    "                print(f'No improvement for {patience} epochs. Early stopping...')\n",
    "                break\n",
    "\n",
    "    return train_losses, train_accuracies, train_precisions, train_recalls, test_losses, test_accuracies, test_precisions, test_recalls\n",
    "\n"
   ]
  },
  {
   "cell_type": "code",
   "execution_count": 23,
   "metadata": {},
   "outputs": [],
   "source": [
    "import matplotlib.pyplot as plt\n",
    "\n",
    "def plot_metrics(train_losses, train_accuracies, train_precisions, train_recalls, test_losses, test_accuracies, test_precisions, test_recalls):\n",
    "    epochs = range(1, len(train_losses) + 1)\n",
    "\n",
    "\n",
    "    # Convertir tensores a valores flotantes\n",
    "    train_accuracies = [accuracy.item() for accuracy in train_accuracies]\n",
    "    test_accuracies = [accuracy.item() for accuracy in test_accuracies]\n",
    "    train_precisions = [precision.item() for precision in train_precisions]\n",
    "    test_precisions = [precision.item() for precision in test_precisions]\n",
    "    train_recalls = [recall.item() for recall in train_recalls]\n",
    "    test_recalls = [recall.item() for recall in test_recalls]\n",
    "\n",
    "  \n",
    "\n",
    "    fig, axes = plt.subplots(nrows=2, ncols=2, figsize=(15, 10))\n",
    "\n",
    "    # Plot loss\n",
    "    axes[0, 0].plot(epochs, train_losses, label='Training Loss')\n",
    "    axes[0, 0].plot(epochs, test_losses, label='Testing Loss')\n",
    "    axes[0, 0].set_title('Loss')\n",
    "    axes[0, 0].set_xlabel('Epoch')\n",
    "    axes[0, 0].set_ylabel('Loss')\n",
    "    axes[0, 0].legend()\n",
    "\n",
    "    # Plot accuracy\n",
    "    axes[0, 1].plot(epochs, train_accuracies, label='Training Accuracy')\n",
    "    axes[0, 1].plot(epochs, test_accuracies, label='Testing Accuracy')\n",
    "    axes[0, 1].set_title('Accuracy')\n",
    "    axes[0, 1].set_xlabel('Epoch')\n",
    "    axes[0, 1].set_ylabel('Accuracy')\n",
    "    axes[0, 1].legend()\n",
    "\n",
    "    # Plot precision\n",
    "    axes[1, 0].plot(epochs, train_precisions, label='Training Precision')\n",
    "    axes[1, 0].plot(epochs, test_precisions, label='Testing Precision')\n",
    "    axes[1, 0].set_title('Precision')\n",
    "    axes[1, 0].set_xlabel('Epoch')\n",
    "    axes[1, 0].set_ylabel('Precision')\n",
    "    axes[1, 0].legend()\n",
    "\n",
    "    # Plot recall\n",
    "    axes[1, 1].plot(epochs, train_recalls, label='Training Recall')\n",
    "    axes[1, 1].plot(epochs, test_recalls, label='Testing Recall')\n",
    "    axes[1, 1].set_title('Recall')\n",
    "    axes[1, 1].set_xlabel('Epoch')\n",
    "    axes[1, 1].set_ylabel('Recall')\n",
    "    axes[1, 1].legend()\n",
    "\n",
    "    plt.tight_layout()\n",
    "    plt.show()\n",
    "\n",
    "\n"
   ]
  },
  {
   "cell_type": "markdown",
   "metadata": {},
   "source": [
    "### VGGNet16 con fine-tunning"
   ]
  },
  {
   "cell_type": "code",
   "execution_count": 5,
   "metadata": {},
   "outputs": [],
   "source": [
    "# Definir el modelo VGGNet con fine-tuning\n",
    "class VGGNetFineTuning(nn.Module):\n",
    "    def __init__(self, num_classes):\n",
    "        super(VGGNetFineTuning, self).__init__()\n",
    "        vgg = models.vgg16(models.VGG16_Weights.DEFAULT)\n",
    "        for param in vgg.parameters():\n",
    "            param.requires_grad = False\n",
    "        # Modificar la capa de clasificación\n",
    "        vgg.classifier[-1] = nn.Linear(in_features=4096, out_features=num_classes)\n",
    "        self.vgg = vgg\n",
    "\n",
    "    def forward(self, x):\n",
    "        return self.vgg(x)\n"
   ]
  },
  {
   "cell_type": "code",
   "execution_count": 6,
   "metadata": {},
   "outputs": [
    {
     "name": "stderr",
     "output_type": "stream",
     "text": [
      "/home/cristina/.local/lib/python3.10/site-packages/torchvision/models/_utils.py:135: UserWarning: Using 'weights' as positional parameter(s) is deprecated since 0.13 and may be removed in the future. Please use keyword parameter(s) instead.\n",
      "  warnings.warn(\n",
      "Training Epoch 1/100: 100%|████████████████| 160/160 [00:36<00:00,  4.38batch/s]\n"
     ]
    },
    {
     "name": "stdout",
     "output_type": "stream",
     "text": [
      "Training Loss: 1.4240, Training Accuracy: 0.2941, Training Precision: 0.3119, Training Recall: 0.2941\n"
     ]
    },
    {
     "name": "stderr",
     "output_type": "stream",
     "text": [
      "Testing Epoch 1/100: 100%|███████████████████| 40/40 [00:09<00:00,  4.34batch/s]\n"
     ]
    },
    {
     "name": "stdout",
     "output_type": "stream",
     "text": [
      "Testing Loss: 5.6961, Testing Accuracy: 0.3061, Testing Precision: 0.3570, Testing Recall: 0.3061\n"
     ]
    },
    {
     "name": "stderr",
     "output_type": "stream",
     "text": [
      "Training Epoch 2/100: 100%|████████████████| 160/160 [00:36<00:00,  4.34batch/s]\n"
     ]
    },
    {
     "name": "stdout",
     "output_type": "stream",
     "text": [
      "Training Loss: 1.3319, Training Accuracy: 0.3226, Training Precision: 0.3766, Training Recall: 0.3226\n"
     ]
    },
    {
     "name": "stderr",
     "output_type": "stream",
     "text": [
      "Testing Epoch 2/100: 100%|███████████████████| 40/40 [00:09<00:00,  4.30batch/s]\n"
     ]
    },
    {
     "name": "stdout",
     "output_type": "stream",
     "text": [
      "Testing Loss: 5.3275, Testing Accuracy: 0.3276, Testing Precision: 0.3833, Testing Recall: 0.3276\n"
     ]
    },
    {
     "name": "stderr",
     "output_type": "stream",
     "text": [
      "Training Epoch 3/100: 100%|████████████████| 160/160 [00:36<00:00,  4.33batch/s]\n"
     ]
    },
    {
     "name": "stdout",
     "output_type": "stream",
     "text": [
      "Training Loss: 1.2819, Training Accuracy: 0.3399, Training Precision: 0.3984, Training Recall: 0.3399\n"
     ]
    },
    {
     "name": "stderr",
     "output_type": "stream",
     "text": [
      "Testing Epoch 3/100: 100%|███████████████████| 40/40 [00:08<00:00,  4.46batch/s]\n"
     ]
    },
    {
     "name": "stdout",
     "output_type": "stream",
     "text": [
      "Testing Loss: 5.1277, Testing Accuracy: 0.3420, Testing Precision: 0.3999, Testing Recall: 0.3420\n"
     ]
    },
    {
     "name": "stderr",
     "output_type": "stream",
     "text": [
      "Training Epoch 4/100: 100%|████████████████| 160/160 [00:36<00:00,  4.38batch/s]\n"
     ]
    },
    {
     "name": "stdout",
     "output_type": "stream",
     "text": [
      "Training Loss: 1.2959, Training Accuracy: 0.3486, Training Precision: 0.4076, Training Recall: 0.3486\n"
     ]
    },
    {
     "name": "stderr",
     "output_type": "stream",
     "text": [
      "Testing Epoch 4/100: 100%|███████████████████| 40/40 [00:09<00:00,  4.31batch/s]\n"
     ]
    },
    {
     "name": "stdout",
     "output_type": "stream",
     "text": [
      "Testing Loss: 5.1835, Testing Accuracy: 0.3507, Testing Precision: 0.4104, Testing Recall: 0.3507\n"
     ]
    },
    {
     "name": "stderr",
     "output_type": "stream",
     "text": [
      "Training Epoch 5/100: 100%|████████████████| 160/160 [00:36<00:00,  4.44batch/s]\n"
     ]
    },
    {
     "name": "stdout",
     "output_type": "stream",
     "text": [
      "Training Loss: 1.2884, Training Accuracy: 0.3548, Training Precision: 0.4144, Training Recall: 0.3548\n"
     ]
    },
    {
     "name": "stderr",
     "output_type": "stream",
     "text": [
      "Testing Epoch 5/100: 100%|███████████████████| 40/40 [00:08<00:00,  4.47batch/s]\n"
     ]
    },
    {
     "name": "stdout",
     "output_type": "stream",
     "text": [
      "Testing Loss: 5.1535, Testing Accuracy: 0.3551, Testing Precision: 0.4163, Testing Recall: 0.3551\n"
     ]
    },
    {
     "name": "stderr",
     "output_type": "stream",
     "text": [
      "Training Epoch 6/100: 100%|████████████████| 160/160 [00:37<00:00,  4.32batch/s]\n"
     ]
    },
    {
     "name": "stdout",
     "output_type": "stream",
     "text": [
      "Training Loss: 1.2926, Training Accuracy: 0.3607, Training Precision: 0.4268, Training Recall: 0.3607\n"
     ]
    },
    {
     "name": "stderr",
     "output_type": "stream",
     "text": [
      "Testing Epoch 6/100: 100%|███████████████████| 40/40 [00:08<00:00,  4.46batch/s]\n"
     ]
    },
    {
     "name": "stdout",
     "output_type": "stream",
     "text": [
      "Testing Loss: 5.1705, Testing Accuracy: 0.3616, Testing Precision: 0.4273, Testing Recall: 0.3616\n"
     ]
    },
    {
     "name": "stderr",
     "output_type": "stream",
     "text": [
      "Training Epoch 7/100: 100%|████████████████| 160/160 [00:36<00:00,  4.43batch/s]\n"
     ]
    },
    {
     "name": "stdout",
     "output_type": "stream",
     "text": [
      "Training Loss: 1.2690, Training Accuracy: 0.3660, Training Precision: 0.4317, Training Recall: 0.3660\n"
     ]
    },
    {
     "name": "stderr",
     "output_type": "stream",
     "text": [
      "Testing Epoch 7/100: 100%|███████████████████| 40/40 [00:08<00:00,  4.53batch/s]\n"
     ]
    },
    {
     "name": "stdout",
     "output_type": "stream",
     "text": [
      "Testing Loss: 5.0762, Testing Accuracy: 0.3659, Testing Precision: 0.4330, Testing Recall: 0.3659\n"
     ]
    },
    {
     "name": "stderr",
     "output_type": "stream",
     "text": [
      "Training Epoch 8/100: 100%|████████████████| 160/160 [00:36<00:00,  4.40batch/s]\n"
     ]
    },
    {
     "name": "stdout",
     "output_type": "stream",
     "text": [
      "Training Loss: 1.2791, Training Accuracy: 0.3670, Training Precision: 0.4297, Training Recall: 0.3670\n"
     ]
    },
    {
     "name": "stderr",
     "output_type": "stream",
     "text": [
      "Testing Epoch 8/100: 100%|███████████████████| 40/40 [00:09<00:00,  4.40batch/s]\n"
     ]
    },
    {
     "name": "stdout",
     "output_type": "stream",
     "text": [
      "Testing Loss: 5.1166, Testing Accuracy: 0.3665, Testing Precision: 0.4310, Testing Recall: 0.3665\n"
     ]
    },
    {
     "name": "stderr",
     "output_type": "stream",
     "text": [
      "Training Epoch 9/100: 100%|████████████████| 160/160 [00:36<00:00,  4.38batch/s]\n"
     ]
    },
    {
     "name": "stdout",
     "output_type": "stream",
     "text": [
      "Training Loss: 1.2956, Training Accuracy: 0.3690, Training Precision: 0.4338, Training Recall: 0.3690\n"
     ]
    },
    {
     "name": "stderr",
     "output_type": "stream",
     "text": [
      "Testing Epoch 9/100: 100%|███████████████████| 40/40 [00:09<00:00,  4.41batch/s]\n"
     ]
    },
    {
     "name": "stdout",
     "output_type": "stream",
     "text": [
      "Testing Loss: 5.1822, Testing Accuracy: 0.3694, Testing Precision: 0.4347, Testing Recall: 0.3694\n"
     ]
    },
    {
     "name": "stderr",
     "output_type": "stream",
     "text": [
      "Training Epoch 10/100: 100%|███████████████| 160/160 [00:36<00:00,  4.35batch/s]\n"
     ]
    },
    {
     "name": "stdout",
     "output_type": "stream",
     "text": [
      "Training Loss: 1.2863, Training Accuracy: 0.3724, Training Precision: 0.4378, Training Recall: 0.3724\n"
     ]
    },
    {
     "name": "stderr",
     "output_type": "stream",
     "text": [
      "Testing Epoch 10/100: 100%|██████████████████| 40/40 [00:09<00:00,  4.42batch/s]\n"
     ]
    },
    {
     "name": "stdout",
     "output_type": "stream",
     "text": [
      "Testing Loss: 5.1453, Testing Accuracy: 0.3720, Testing Precision: 0.4385, Testing Recall: 0.3720\n"
     ]
    },
    {
     "name": "stderr",
     "output_type": "stream",
     "text": [
      "Training Epoch 11/100: 100%|███████████████| 160/160 [00:36<00:00,  4.44batch/s]\n"
     ]
    },
    {
     "name": "stdout",
     "output_type": "stream",
     "text": [
      "Training Loss: 1.2700, Training Accuracy: 0.3743, Training Precision: 0.4401, Training Recall: 0.3743\n"
     ]
    },
    {
     "name": "stderr",
     "output_type": "stream",
     "text": [
      "Testing Epoch 11/100: 100%|██████████████████| 40/40 [00:09<00:00,  4.41batch/s]\n"
     ]
    },
    {
     "name": "stdout",
     "output_type": "stream",
     "text": [
      "Testing Loss: 5.0798, Testing Accuracy: 0.3747, Testing Precision: 0.4402, Testing Recall: 0.3747\n"
     ]
    },
    {
     "name": "stderr",
     "output_type": "stream",
     "text": [
      "Training Epoch 12/100: 100%|███████████████| 160/160 [00:36<00:00,  4.37batch/s]\n"
     ]
    },
    {
     "name": "stdout",
     "output_type": "stream",
     "text": [
      "Training Loss: 1.2524, Training Accuracy: 0.3768, Training Precision: 0.4437, Training Recall: 0.3768\n"
     ]
    },
    {
     "name": "stderr",
     "output_type": "stream",
     "text": [
      "Testing Epoch 12/100: 100%|██████████████████| 40/40 [00:09<00:00,  4.43batch/s]\n"
     ]
    },
    {
     "name": "stdout",
     "output_type": "stream",
     "text": [
      "Testing Loss: 5.0098, Testing Accuracy: 0.3768, Testing Precision: 0.4436, Testing Recall: 0.3768\n"
     ]
    },
    {
     "name": "stderr",
     "output_type": "stream",
     "text": [
      "Training Epoch 13/100: 100%|███████████████| 160/160 [00:36<00:00,  4.44batch/s]\n"
     ]
    },
    {
     "name": "stdout",
     "output_type": "stream",
     "text": [
      "Training Loss: 1.2765, Training Accuracy: 0.3783, Training Precision: 0.4438, Training Recall: 0.3783\n"
     ]
    },
    {
     "name": "stderr",
     "output_type": "stream",
     "text": [
      "Testing Epoch 13/100: 100%|██████████████████| 40/40 [00:08<00:00,  4.46batch/s]\n"
     ]
    },
    {
     "name": "stdout",
     "output_type": "stream",
     "text": [
      "Testing Loss: 5.1061, Testing Accuracy: 0.3778, Testing Precision: 0.4438, Testing Recall: 0.3778\n"
     ]
    },
    {
     "name": "stderr",
     "output_type": "stream",
     "text": [
      "Training Epoch 14/100: 100%|███████████████| 160/160 [00:35<00:00,  4.48batch/s]\n"
     ]
    },
    {
     "name": "stdout",
     "output_type": "stream",
     "text": [
      "Training Loss: 1.2674, Training Accuracy: 0.3797, Training Precision: 0.4463, Training Recall: 0.3797\n"
     ]
    },
    {
     "name": "stderr",
     "output_type": "stream",
     "text": [
      "Testing Epoch 14/100: 100%|██████████████████| 40/40 [00:08<00:00,  4.46batch/s]\n"
     ]
    },
    {
     "name": "stdout",
     "output_type": "stream",
     "text": [
      "Testing Loss: 5.0696, Testing Accuracy: 0.3794, Testing Precision: 0.4467, Testing Recall: 0.3794\n"
     ]
    },
    {
     "name": "stderr",
     "output_type": "stream",
     "text": [
      "Training Epoch 15/100: 100%|███████████████| 160/160 [00:36<00:00,  4.41batch/s]\n"
     ]
    },
    {
     "name": "stdout",
     "output_type": "stream",
     "text": [
      "Training Loss: 1.2853, Training Accuracy: 0.3811, Training Precision: 0.4472, Training Recall: 0.3811\n"
     ]
    },
    {
     "name": "stderr",
     "output_type": "stream",
     "text": [
      "Testing Epoch 15/100: 100%|██████████████████| 40/40 [00:09<00:00,  4.38batch/s]\n"
     ]
    },
    {
     "name": "stdout",
     "output_type": "stream",
     "text": [
      "Testing Loss: 5.1411, Testing Accuracy: 0.3807, Testing Precision: 0.4469, Testing Recall: 0.3807\n"
     ]
    },
    {
     "name": "stderr",
     "output_type": "stream",
     "text": [
      "Training Epoch 16/100: 100%|███████████████| 160/160 [00:37<00:00,  4.30batch/s]\n"
     ]
    },
    {
     "name": "stdout",
     "output_type": "stream",
     "text": [
      "Training Loss: 1.2692, Training Accuracy: 0.3826, Training Precision: 0.4489, Training Recall: 0.3826\n"
     ]
    },
    {
     "name": "stderr",
     "output_type": "stream",
     "text": [
      "Testing Epoch 16/100: 100%|██████████████████| 40/40 [00:09<00:00,  4.18batch/s]\n"
     ]
    },
    {
     "name": "stdout",
     "output_type": "stream",
     "text": [
      "Testing Loss: 5.0769, Testing Accuracy: 0.3825, Testing Precision: 0.4486, Testing Recall: 0.3825\n"
     ]
    },
    {
     "name": "stderr",
     "output_type": "stream",
     "text": [
      "Training Epoch 17/100: 100%|███████████████| 160/160 [00:36<00:00,  4.40batch/s]\n"
     ]
    },
    {
     "name": "stdout",
     "output_type": "stream",
     "text": [
      "Training Loss: 1.2767, Training Accuracy: 0.3835, Training Precision: 0.4489, Training Recall: 0.3835\n"
     ]
    },
    {
     "name": "stderr",
     "output_type": "stream",
     "text": [
      "Testing Epoch 17/100: 100%|██████████████████| 40/40 [00:09<00:00,  4.39batch/s]"
     ]
    },
    {
     "name": "stdout",
     "output_type": "stream",
     "text": [
      "Testing Loss: 5.1070, Testing Accuracy: 0.3837, Testing Precision: 0.4488, Testing Recall: 0.3837\n",
      "No improvement for 5 epochs. Early stopping...\n"
     ]
    },
    {
     "name": "stderr",
     "output_type": "stream",
     "text": [
      "\n"
     ]
    }
   ],
   "source": [
    "num_epochs = 100\n",
    "learning_rate = 0.001\n",
    "num_classes = 8\n",
    "device = torch.device('cuda' if torch.cuda.is_available() else 'cpu')\n",
    "\n",
    "model = VGGNetFineTuning(num_classes=num_classes).to(device)\n",
    "\n",
    "criterion = nn.CrossEntropyLoss()\n",
    "optimizer = optim.Adam(model.parameters(), lr=learning_rate)\n",
    "\n",
    "train_losses, train_accuracies, train_precisions, train_recalls, test_losses, test_accuracies, test_precisions, test_recalls = train_and_evaluate(model, train_dataloader, test_dataloader, criterion, optimizer, num_epochs, device, early_stopping=True, patience=5)\n"
   ]
  },
  {
   "cell_type": "code",
   "execution_count": 24,
   "metadata": {},
   "outputs": [
    {
     "data": {
      "image/png": "[encoded data removed]",
      "text/plain": [
       "<Figure size 1500x1000 with 4 Axes>"
      ]
     },
     "metadata": {},
     "output_type": "display_data"
    }
   ],
   "source": [
    "plot_metrics(train_losses, train_accuracies, train_precisions, train_recalls, test_losses, test_accuracies, test_precisions, test_recalls)"
   ]
  },
  {
   "cell_type": "code",
   "execution_count": 27,
   "metadata": {},
   "outputs": [],
   "source": [
    "def compare_predictions(model, dataloader, device, class_names, num_samples=1):\n",
    "    model.eval()\n",
    "    with torch.no_grad():\n",
    "        images, labels = next(iter(dataloader))\n",
    "        images, labels = images.to(device), labels.to(device)\n",
    "\n",
    "        outputs = model(images)\n",
    "        _, predicted = torch.max(outputs, 1)\n",
    "\n",
    "        for i in range(num_samples):\n",
    "            expected_class = class_names[labels[i].item()]\n",
    "            predicted_class = class_names[predicted[i].item()]\n",
    "            print(f'Expected: {expected_class}, Predicted: {predicted_class}')\n",
    "\n",
    "# Diccionario de mapeo de índices de clases a nombres de enfermedades\n",
    "class_names = {\n",
    "    0: 'Normal',\n",
    "    1: 'Diabetes',\n",
    "    2: 'Glaucoma',\n",
    "    3: 'Cataratas',\n",
    "    4: 'Degeneración macular asociada a la edad',\n",
    "    5: 'Hipertensión',\n",
    "    6: 'Miopía',\n",
    "    7: 'Otras enfermedades o anormalidades'\n",
    "}\n",
    "\n",
    "\n"
   ]
  },
  {
   "cell_type": "code",
   "execution_count": 29,
   "metadata": {},
   "outputs": [
    {
     "name": "stdout",
     "output_type": "stream",
     "text": [
      "Expected: Otras enfermedades o anormalidades, Predicted: Normal\n",
      "Expected: Otras enfermedades o anormalidades, Predicted: Normal\n",
      "Expected: Normal, Predicted: Diabetes\n",
      "Expected: Diabetes, Predicted: Diabetes\n",
      "Expected: Otras enfermedades o anormalidades, Predicted: Normal\n",
      "Expected: Normal, Predicted: Diabetes\n",
      "Expected: Cataratas, Predicted: Cataratas\n",
      "Expected: Normal, Predicted: Normal\n",
      "Expected: Normal, Predicted: Normal\n",
      "Expected: Normal, Predicted: Normal\n",
      "Expected: Normal, Predicted: Normal\n",
      "Expected: Glaucoma, Predicted: Normal\n",
      "Expected: Otras enfermedades o anormalidades, Predicted: Normal\n",
      "Expected: Diabetes, Predicted: Normal\n",
      "Expected: Normal, Predicted: Diabetes\n",
      "Expected: Normal, Predicted: Normal\n",
      "Expected: Diabetes, Predicted: Normal\n",
      "Expected: Diabetes, Predicted: Diabetes\n",
      "Expected: Normal, Predicted: Normal\n",
      "Expected: Glaucoma, Predicted: Normal\n"
     ]
    }
   ],
   "source": [
    "compare_predictions(model, test_dataloader, device, class_names, num_samples=20)"
   ]
  },
  {
   "cell_type": "code",
   "execution_count": null,
   "metadata": {},
   "outputs": [],
   "source": []
  }
 ],
 "metadata": {
  "colab": {
   "collapsed_sections": [
    "jSvd9xYnNUzo",
    "KLrbXyJ0VtGD",
    "IN3xDG9GV3aL",
    "qrnIDO8XfG6E",
    "iwC4VJKY7peG",
    "dM6fjxeRLI8r",
    "7fKiQMPQqt3P",
    "3g1FcGewQYRs",
    "9Ny_U-gAPse3",
    "cE5zgMqq8Aq5",
    "tuKKXEaq9fpX",
    "b0RFRqVosbmX",
    "B7lLOgoVX3pj",
    "ywG3S9Hx-a2y",
    "7_LFdOe--f8B",
    "TpPfOZJ6Zo-c",
    "VUmzvEUcd1U1",
    "ZUYYOcwgZyFG",
    "0hL4eGY7bREA",
    "Qx3rhR6Pbbmq",
    "8lRZ5WgCF_Rb",
    "Cx6nEiRpF_Rb",
    "Qv0TnG45F_Rc",
    "n2bbnapcF_Rc",
    "IMPJFvsFF_Rd",
    "h06TBfZfF_Re",
    "UURProxMF_Re",
    "-3D-_JrVF_Rf",
    "92ggxN_LF_Rg",
    "FrfYLFaiF_Rg",
    "Wk52gGgnF_Rh"
   ],
   "provenance": []
  },
  "kaggle": {
   "accelerator": "nvidiaTeslaT4",
   "dataSources": [],
   "dockerImageVersionId": 30733,
   "isGpuEnabled": true,
   "isInternetEnabled": true,
   "language": "python",
   "sourceType": "notebook"
  },
  "kernelspec": {
   "display_name": "Python 3 (ipykernel)",
   "language": "python",
   "name": "python3"
  },
  "language_info": {
   "codemirror_mode": {
    "name": "ipython",
    "version": 3
   },
   "file_extension": ".py",
   "mimetype": "text/x-python",
   "name": "python",
   "nbconvert_exporter": "python",
   "pygments_lexer": "ipython3",
   "version": "3.10.12"
  }
 },
 "nbformat": 4,
 "nbformat_minor": 4
}
